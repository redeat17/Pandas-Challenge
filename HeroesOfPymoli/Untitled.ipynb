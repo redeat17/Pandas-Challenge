{
 "cells": [
  {
   "cell_type": "code",
   "execution_count": null,
   "metadata": {},
   "outputs": [],
   "source": [
    "\n",
    "student_grade = int(input(\"what is your Python grade?\"))\n",
    "if student_grade >= 90:\n",
    "    print(\"You are an outstanding student! your grade is: A\")\n",
    "elif student_grade >= 80:\n",
    "    print(\"B\")\n",
    "elif student_grade >= 70:\n",
    "    print(\"C\")\n",
    "else: \n",
    "    print(\"F\")"
   ]
  },
  {
   "cell_type": "code",
   "execution_count": null,
   "metadata": {},
   "outputs": [],
   "source": [
    "student_grade = int(input(\"what is your Python grade?\"))\n",
    "if student_grade >=90:\n",
    "    print(\"You are an outstanding student! your grade is: A\")\n",
    "elif student_grade >= 80:\n",
    "    print(\"B\")\n",
    "elif student_grade >= 70:\n",
    "    print(\"C\")\n",
    "else: \n",
    "  print(\"F\")"
   ]
  },
  {
   "cell_type": "code",
   "execution_count": null,
   "metadata": {},
   "outputs": [],
   "source": []
  },
  {
   "cell_type": "code",
   "execution_count": null,
   "metadata": {},
   "outputs": [],
   "source": []
  }
 ],
 "metadata": {
  "kernelspec": {
   "display_name": "Python 3",
   "language": "python",
   "name": "python3"
  },
  "language_info": {
   "codemirror_mode": {
    "name": "ipython",
    "version": 3
   },
   "file_extension": ".py",
   "mimetype": "text/x-python",
   "name": "python",
   "nbconvert_exporter": "python",
   "pygments_lexer": "ipython3",
   "version": "3.8.3"
  }
 },
 "nbformat": 4,
 "nbformat_minor": 4
}
